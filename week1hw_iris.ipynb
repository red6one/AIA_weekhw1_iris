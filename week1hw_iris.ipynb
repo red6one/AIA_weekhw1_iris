{
 "cells": [
  {
   "cell_type": "code",
   "execution_count": 39,
   "metadata": {},
   "outputs": [],
   "source": [
    "import numpy as np\n",
    "import pandas as pd\n",
    "import matplotlib.pyplot as plt"
   ]
  },
  {
   "cell_type": "code",
   "execution_count": 60,
   "metadata": {},
   "outputs": [],
   "source": [
    "\"\"\"載入訓練資料及預測資料\"\"\"\n",
    "train = pd.read_csv('D:/week1_homework/train.csv',encoding = \"utf-8\",dtype = {'type':np.int32})\n",
    "test = pd.read_csv('D:/week1_homework/test.csv',encoding = \"utf-8\",dtype = {'type':np.int32})\n",
    "submission = pd.read_csv('D:/week1_homework/submission.csv', encoding = \"utf-8\", dtype = {'type': np.int32})"
   ]
  },
  {
   "cell_type": "code",
   "execution_count": 61,
   "metadata": {},
   "outputs": [
    {
     "name": "stdout",
     "output_type": "stream",
     "text": [
      "      id  花萼長度  花萼寬度  花瓣長度  花瓣寬度              屬種  type\n",
      "0      1   5.4   3.7   1.5   0.2     Iris-setosa     1\n",
      "1      2   4.8   3.4   1.6   0.2     Iris-setosa     1\n",
      "2      3   4.8   3.0   1.4   0.1     Iris-setosa     1\n",
      "3      4   4.3   3.0   1.1   0.1     Iris-setosa     1\n",
      "4      5   5.8   4.0   1.2   0.2     Iris-setosa     1\n",
      "5      6   5.7   4.4   1.5   0.4     Iris-setosa     1\n",
      "6      7   5.4   3.9   1.3   0.4     Iris-setosa     1\n",
      "7      8   5.1   3.5   1.4   0.3     Iris-setosa     1\n",
      "8      9   5.7   3.8   1.7   0.3     Iris-setosa     1\n",
      "9     10   5.1   3.8   1.5   0.3     Iris-setosa     1\n",
      "10    11   5.4   3.4   1.7   0.2     Iris-setosa     1\n",
      "11    12   5.1   3.7   1.5   0.4     Iris-setosa     1\n",
      "12    13   4.6   3.6   1.0   0.2     Iris-setosa     1\n",
      "13    14   5.1   3.3   1.7   0.5     Iris-setosa     1\n",
      "14    15   4.8   3.4   1.9   0.2     Iris-setosa     1\n",
      "15    16   5.0   3.0   1.6   0.2     Iris-setosa     1\n",
      "16    17   5.0   3.4   1.6   0.4     Iris-setosa     1\n",
      "17    18   5.2   3.5   1.5   0.2     Iris-setosa     1\n",
      "18    19   5.2   3.4   1.4   0.2     Iris-setosa     1\n",
      "19    20   4.7   3.2   1.6   0.2     Iris-setosa     1\n",
      "20    21   4.8   3.1   1.6   0.2     Iris-setosa     1\n",
      "21    22   5.4   3.4   1.5   0.4     Iris-setosa     1\n",
      "22    23   5.2   4.1   1.5   0.1     Iris-setosa     1\n",
      "23    24   5.5   4.2   1.4   0.2     Iris-setosa     1\n",
      "24    25   4.9   3.1   1.5   0.1     Iris-setosa     1\n",
      "25    26   5.0   3.2   1.2   0.2     Iris-setosa     1\n",
      "26    27   5.5   3.5   1.3   0.2     Iris-setosa     1\n",
      "27    28   4.9   3.1   1.5   0.1     Iris-setosa     1\n",
      "28    29   4.4   3.0   1.3   0.2     Iris-setosa     1\n",
      "29    30   5.1   3.4   1.5   0.2     Iris-setosa     1\n",
      "..   ...   ...   ...   ...   ...             ...   ...\n",
      "93    94   6.3   2.7   4.9   1.8  Iris-virginica     3\n",
      "94    95   6.7   3.3   5.7   2.1  Iris-virginica     3\n",
      "95    96   7.2   3.2   6.0   1.8  Iris-virginica     3\n",
      "96    97   6.2   2.8   4.8   1.8  Iris-virginica     3\n",
      "97    98   6.1   3.0   4.9   1.8  Iris-virginica     3\n",
      "98    99   6.4   2.8   5.6   2.1  Iris-virginica     3\n",
      "99   100   7.2   3.0   5.8   1.6  Iris-virginica     3\n",
      "100  101   7.4   2.8   6.1   1.9  Iris-virginica     3\n",
      "101  102   7.9   3.8   6.4   2.0  Iris-virginica     3\n",
      "102  103   6.4   2.8   5.6   2.2  Iris-virginica     3\n",
      "103  104   6.3   2.8   5.1   1.5  Iris-virginica     3\n",
      "104  105   6.1   2.6   5.6   1.4  Iris-virginica     3\n",
      "105  106   7.7   3.0   6.1   2.3  Iris-virginica     3\n",
      "106  107   6.3   3.4   5.6   2.4  Iris-virginica     3\n",
      "107  108   6.4   3.1   5.5   1.8  Iris-virginica     3\n",
      "108  109   6.0   3.0   4.8   1.8  Iris-virginica     3\n",
      "109  110   6.9   3.1   5.4   2.1  Iris-virginica     3\n",
      "110  111   6.7   3.1   5.6   2.4  Iris-virginica     3\n",
      "111  112   6.9   3.1   5.1   2.3  Iris-virginica     3\n",
      "112  113   5.8   2.7   5.1   1.9  Iris-virginica     3\n",
      "113  114   6.8   3.2   5.9   2.3  Iris-virginica     3\n",
      "114  115   6.7   3.3   5.7   2.5  Iris-virginica     3\n",
      "115  116   6.7   3.0   5.2   2.3  Iris-virginica     3\n",
      "116  117   6.3   2.5   5.0   1.9  Iris-virginica     3\n",
      "117  118   6.5   3.0   5.2   2.0  Iris-virginica     3\n",
      "118  119   6.2   3.4   5.4   2.3  Iris-virginica     3\n",
      "119  120   5.9   3.0   5.1   1.8  Iris-virginica     3\n",
      "120  121   NaN   3.0   4.9   1.2   Iris-new_type     4\n",
      "121  122   5.2   NaN   5.1   1.8   Iris-new_type     4\n",
      "122  123   6.1   3.2   5.1   1.8   Iris-new_type     4\n",
      "\n",
      "[123 rows x 7 columns]\n"
     ]
    }
   ],
   "source": [
    "list(train)  #觀察資料的特徵及屬性 \n",
    "print(train) #觀察資料是否有缺失值"
   ]
  },
  {
   "cell_type": "code",
   "execution_count": 62,
   "metadata": {},
   "outputs": [],
   "source": [
    "train[['花萼長度']] = train[['花萼長度']].fillna(np.mean(train[['花萼長度']]))#花萼長度有nan值，利用取平均數填值\n",
    "train[['花萼寬度']] = train[['花萼寬度']].fillna(np.mean(train[['花萼寬度']]))#花萼寬度有nan值，利用取平均數填值\n",
    "train = round(train,1)#讓所有數保持在小數點第一位"
   ]
  },
  {
   "cell_type": "code",
   "execution_count": 63,
   "metadata": {
    "tags": [
     "將Iris-new_type及其他3種屬性分開"
    ]
   },
   "outputs": [],
   "source": [
    "\n",
    "train_type_equal4 = train[train['type']==4] \n",
    "train_type_unequal4 = train[train['type']!=4]\n"
   ]
  },
  {
   "cell_type": "code",
   "execution_count": 64,
   "metadata": {},
   "outputs": [
    {
     "name": "stdout",
     "output_type": "stream",
     "text": [
      "             precision    recall  f1-score   support\n",
      "\n",
      "          1       1.00      1.00      1.00        13\n",
      "          2       0.89      0.89      0.89         9\n",
      "          3       0.93      0.93      0.93        15\n",
      "\n",
      "avg / total       0.95      0.95      0.95        37\n",
      "\n",
      "[[13  0  0]\n",
      " [ 0  8  1]\n",
      " [ 0  1 14]]\n"
     ]
    },
    {
     "name": "stderr",
     "output_type": "stream",
     "text": [
      "D:\\PYthon\\lib\\site-packages\\sklearn\\preprocessing\\label.py:151: DeprecationWarning: The truth value of an empty array is ambiguous. Returning False, but in future this will result in an error. Use `array.size > 0` to check that an array is not empty.\n",
      "  if diff:\n",
      "D:\\PYthon\\lib\\site-packages\\ipykernel_launcher.py:33: SettingWithCopyWarning: \n",
      "A value is trying to be set on a copy of a slice from a DataFrame.\n",
      "Try using .loc[row_indexer,col_indexer] = value instead\n",
      "\n",
      "See the caveats in the documentation: http://pandas.pydata.org/pandas-docs/stable/indexing.html#indexing-view-versus-copy\n"
     ]
    },
    {
     "ename": "NameError",
     "evalue": "name 'train_type_equal' is not defined",
     "output_type": "error",
     "traceback": [
      "\u001b[1;31m---------------------------------------------------------------------------\u001b[0m",
      "\u001b[1;31mNameError\u001b[0m                                 Traceback (most recent call last)",
      "\u001b[1;32m<ipython-input-64-c5f428241654>\u001b[0m in \u001b[0;36m<module>\u001b[1;34m()\u001b[0m\n\u001b[0;32m     33\u001b[0m \u001b[0mtrain_type_equal4\u001b[0m\u001b[1;33m[\u001b[0m\u001b[1;34m'type'\u001b[0m\u001b[1;33m]\u001b[0m \u001b[1;33m=\u001b[0m \u001b[0mgbm\u001b[0m\u001b[1;33m.\u001b[0m\u001b[0mpredict\u001b[0m\u001b[1;33m(\u001b[0m\u001b[0mX_train_type_equal4\u001b[0m\u001b[1;33m[\u001b[0m\u001b[1;33m[\u001b[0m\u001b[1;34m'花萼長度'\u001b[0m\u001b[1;33m,\u001b[0m\u001b[1;34m'花萼寬度'\u001b[0m\u001b[1;33m,\u001b[0m\u001b[1;34m'花瓣長度'\u001b[0m\u001b[1;33m,\u001b[0m\u001b[1;34m'花瓣寬度'\u001b[0m\u001b[1;33m]\u001b[0m\u001b[1;33m]\u001b[0m\u001b[1;33m)\u001b[0m\u001b[1;33m\u001b[0m\u001b[0m\n\u001b[0;32m     34\u001b[0m \u001b[1;34m\"\"\"\"\"\"\u001b[0m\u001b[1;33m\u001b[0m\u001b[0m\n\u001b[1;32m---> 35\u001b[1;33m \u001b[0mprint\u001b[0m\u001b[1;33m(\u001b[0m\u001b[0mtrain_type_equal\u001b[0m\u001b[1;33m)\u001b[0m\u001b[1;33m\u001b[0m\u001b[0m\n\u001b[0m",
      "\u001b[1;31mNameError\u001b[0m: name 'train_type_equal' is not defined"
     ]
    }
   ],
   "source": [
    "\"\"\"***********************************************\n",
    "本段目的\n",
    "利用KNN，將屬性Iris-new_type的資料，分類到其他三種屬性\n",
    "***********************************************\"\"\"\n",
    "\n",
    "\n",
    "from sklearn.model_selection import train_test_split\n",
    "X = train[['花萼長度','花萼寬度','花瓣長度','花瓣寬度']]\n",
    "y = train['type']\n",
    "X_train,X_test,y_train,y_test = train_test_split(X,y,test_size = 0.3,random_state = 100) #將非Iris-new_type資料做切割，分為訓練(train)及測試(test)，取資料3成作為test\n",
    "\n",
    "\"\"\"標準化\"\"\"\n",
    "from sklearn.preprocessing import StandardScaler \n",
    "sc = StandardScaler()\n",
    "sc.fit(X_train)\n",
    "X_train_std = sc.transform(X_train)\n",
    "X_test_std = sc.transform(X_test)\n",
    "\n",
    "\"\"\"KNN\"\"\"\n",
    "from sklearn.neighbors import KNeighborsClassifier\n",
    "from sklearn import metrics\n",
    "\n",
    "knn = KNeighborsClassifier(n_neighbors = 3,weights = 'uniform')\n",
    "knn.fit(X_train_std,y_train)\n",
    "print(metrics.classification_report(y_test,knn.predict(X_test_std)))\n",
    "print(metrics.confusion_matrix(y_test,knn.predict(X_test_std)))\n",
    "\"\"\"\"\"\"\n",
    "\n",
    "\"\"\"將type = 4的種類利用KNN,歸類到1~3的屬性\"\"\"\n",
    "import xgboost as xgb\n",
    "X_train_type_equal4 = train_type_equal4[['花萼長度','花萼寬度','花瓣長度','花瓣寬度']] \n",
    "gbm = xgb.XGBClassifier(n_estimators=2000,max_depth = 4).fit(X_train,y_train)\n",
    "train_type_equal4['type'] = gbm.predict(X_train_type_equal4[['花萼長度','花萼寬度','花瓣長度','花瓣寬度']])\n",
    "\"\"\"\"\"\"\n",
    "print(train_type_equal)\n"
   ]
  },
  {
   "cell_type": "code",
   "execution_count": 65,
   "metadata": {},
   "outputs": [],
   "source": [
    "train = pd.concat([train_type_unequal4, train_type_equal4])  #合併train_type_unequal4及新的train_type_equal4\n"
   ]
  },
  {
   "cell_type": "code",
   "execution_count": 66,
   "metadata": {},
   "outputs": [
    {
     "name": "stdout",
     "output_type": "stream",
     "text": [
      "             precision    recall  f1-score   support\n",
      "\n",
      "          1       1.00      1.00      1.00        13\n",
      "          2       0.89      0.89      0.89         9\n",
      "          3       0.93      0.93      0.93        15\n",
      "\n",
      "avg / total       0.95      0.95      0.95        37\n",
      "\n",
      "[[13  0  0]\n",
      " [ 0  8  1]\n",
      " [ 0  1 14]]\n"
     ]
    }
   ],
   "source": [
    "\"\"\"***************************************************\n",
    "\n",
    "將新的train data 用SVM分類並預測test data 的type\n",
    "\n",
    "***************************************************\"\"\"\n",
    "X = train[['花萼長度','花萼寬度','花瓣長度','花瓣寬度']]\n",
    "y = train['type']\n",
    "X_train,X_test,y_train,y_test = train_test_split(X,y,test_size = 0.3,random_state = 100)\n",
    "\n",
    "\"\"\"標準化\"\"\"\n",
    "from sklearn.preprocessing import StandardScaler \n",
    "sc = StandardScaler()\n",
    "sc.fit(X_train)\n",
    "X_train_std = sc.transform(X_train)\n",
    "X_test_std = sc.transform(X_test)\n",
    "\n",
    "\n",
    "\n",
    "\"\"\"SVM\"\"\"\n",
    "from sklearn.svm import SVC\n",
    "from sklearn import metrics\n",
    "\n",
    "svc = SVC(C = 1.0,kernel = \"rbf\",probability = True)\n",
    "svc.fit(X_train_std,y_train)\n",
    "\n",
    "print(metrics.classification_report(y_test,svc.predict(X_test_std)))\n",
    "print(metrics.confusion_matrix(y_test,svc.predict(X_test_std)))\n",
    "\n"
   ]
  },
  {
   "cell_type": "code",
   "execution_count": 67,
   "metadata": {},
   "outputs": [
    {
     "name": "stdout",
     "output_type": "stream",
     "text": [
      "             precision    recall  f1-score   support\n",
      "\n",
      "          1       1.00      1.00      1.00        13\n",
      "          2       0.89      0.89      0.89         9\n",
      "          3       0.93      0.93      0.93        15\n",
      "\n",
      "avg / total       0.95      0.95      0.95        37\n",
      "\n",
      "Score: 0.9459459459459459\n"
     ]
    },
    {
     "name": "stderr",
     "output_type": "stream",
     "text": [
      "D:\\PYthon\\lib\\site-packages\\sklearn\\preprocessing\\label.py:151: DeprecationWarning: The truth value of an empty array is ambiguous. Returning False, but in future this will result in an error. Use `array.size > 0` to check that an array is not empty.\n",
      "  if diff:\n",
      "D:\\PYthon\\lib\\site-packages\\sklearn\\preprocessing\\label.py:151: DeprecationWarning: The truth value of an empty array is ambiguous. Returning False, but in future this will result in an error. Use `array.size > 0` to check that an array is not empty.\n",
      "  if diff:\n"
     ]
    }
   ],
   "source": [
    "import xgboost as xgb\n",
    "gbm = xgb.XGBClassifier(n_estimators=2000,max_depth = 4).fit(X_train,y_train)\n",
    "print(metrics.classification_report(y_test,gbm.predict(X_test)))\n",
    "print(\"Score:\",gbm.score(X_test,y_test)) #顯示訓練後的分數\n",
    "\n",
    "\n"
   ]
  },
  {
   "cell_type": "code",
   "execution_count": 68,
   "metadata": {},
   "outputs": [
    {
     "name": "stdout",
     "output_type": "stream",
     "text": [
      "[0.08749405 0.56110317 0.24750356 0.10389919]\n"
     ]
    },
    {
     "data": {
      "image/png": "[encoded data removed]",
      "text/plain": [
       "<Figure size 432x288 with 1 Axes>"
      ]
     },
     "metadata": {},
     "output_type": "display_data"
    }
   ],
   "source": [
    "\"\"\"特徵重要程度\"\"\"\n",
    "print(gbm.feature_importances_)\n",
    "\n",
    "from xgboost import plot_importance\n",
    "plot_importance(gbm,)\n",
    "plt.show()\n",
    "\n"
   ]
  },
  {
   "cell_type": "code",
   "execution_count": 69,
   "metadata": {},
   "outputs": [
    {
     "name": "stderr",
     "output_type": "stream",
     "text": [
      "D:\\PYthon\\lib\\site-packages\\sklearn\\preprocessing\\label.py:151: DeprecationWarning: The truth value of an empty array is ambiguous. Returning False, but in future this will result in an error. Use `array.size > 0` to check that an array is not empty.\n",
      "  if diff:\n"
     ]
    },
    {
     "data": {
      "text/plain": [
       "array([1, 1, 1, 1, 1, 1, 1, 1, 1, 1, 2, 2, 3, 2, 2, 2, 2, 2, 2, 2, 3, 3,\n",
       "       3, 3, 3, 3, 2, 3, 3, 3])"
      ]
     },
     "execution_count": 69,
     "metadata": {},
     "output_type": "execute_result"
    }
   ],
   "source": [
    "\"\"\"利用訓練後模型套用到預測資料並預測其type\"\"\"\n",
    "pred = gbm.predict(test[['花萼長度','花萼寬度','花瓣長度','花瓣寬度']])\n",
    "pred"
   ]
  },
  {
   "cell_type": "code",
   "execution_count": 70,
   "metadata": {},
   "outputs": [],
   "source": [
    "StackingSubmission = pd.DataFrame({'id':submission.id,'type':pred})\n",
    "StackingSubmission.to_csv(\"submission.csv\",index = False)\n",
    "\n"
   ]
  },
  {
   "cell_type": "code",
   "execution_count": 71,
   "metadata": {},
   "outputs": [
    {
     "data": {
      "text/html": [
       "<div>\n",
       "<style scoped>\n",
       "    .dataframe tbody tr th:only-of-type {\n",
       "        vertical-align: middle;\n",
       "    }\n",
       "\n",
       "    .dataframe tbody tr th {\n",
       "        vertical-align: top;\n",
       "    }\n",
       "\n",
       "    .dataframe thead th {\n",
       "        text-align: right;\n",
       "    }\n",
       "</style>\n",
       "<table border=\"1\" class=\"dataframe\">\n",
       "  <thead>\n",
       "    <tr style=\"text-align: right;\">\n",
       "      <th></th>\n",
       "      <th>id</th>\n",
       "      <th>type</th>\n",
       "    </tr>\n",
       "  </thead>\n",
       "  <tbody>\n",
       "    <tr>\n",
       "      <th>0</th>\n",
       "      <td>1</td>\n",
       "      <td>1</td>\n",
       "    </tr>\n",
       "    <tr>\n",
       "      <th>1</th>\n",
       "      <td>2</td>\n",
       "      <td>1</td>\n",
       "    </tr>\n",
       "    <tr>\n",
       "      <th>2</th>\n",
       "      <td>3</td>\n",
       "      <td>1</td>\n",
       "    </tr>\n",
       "    <tr>\n",
       "      <th>3</th>\n",
       "      <td>4</td>\n",
       "      <td>1</td>\n",
       "    </tr>\n",
       "    <tr>\n",
       "      <th>4</th>\n",
       "      <td>5</td>\n",
       "      <td>1</td>\n",
       "    </tr>\n",
       "    <tr>\n",
       "      <th>5</th>\n",
       "      <td>6</td>\n",
       "      <td>1</td>\n",
       "    </tr>\n",
       "    <tr>\n",
       "      <th>6</th>\n",
       "      <td>7</td>\n",
       "      <td>1</td>\n",
       "    </tr>\n",
       "    <tr>\n",
       "      <th>7</th>\n",
       "      <td>8</td>\n",
       "      <td>1</td>\n",
       "    </tr>\n",
       "    <tr>\n",
       "      <th>8</th>\n",
       "      <td>9</td>\n",
       "      <td>1</td>\n",
       "    </tr>\n",
       "    <tr>\n",
       "      <th>9</th>\n",
       "      <td>10</td>\n",
       "      <td>1</td>\n",
       "    </tr>\n",
       "    <tr>\n",
       "      <th>10</th>\n",
       "      <td>11</td>\n",
       "      <td>2</td>\n",
       "    </tr>\n",
       "    <tr>\n",
       "      <th>11</th>\n",
       "      <td>12</td>\n",
       "      <td>2</td>\n",
       "    </tr>\n",
       "    <tr>\n",
       "      <th>12</th>\n",
       "      <td>13</td>\n",
       "      <td>3</td>\n",
       "    </tr>\n",
       "    <tr>\n",
       "      <th>13</th>\n",
       "      <td>14</td>\n",
       "      <td>2</td>\n",
       "    </tr>\n",
       "    <tr>\n",
       "      <th>14</th>\n",
       "      <td>15</td>\n",
       "      <td>2</td>\n",
       "    </tr>\n",
       "    <tr>\n",
       "      <th>15</th>\n",
       "      <td>16</td>\n",
       "      <td>2</td>\n",
       "    </tr>\n",
       "    <tr>\n",
       "      <th>16</th>\n",
       "      <td>17</td>\n",
       "      <td>2</td>\n",
       "    </tr>\n",
       "    <tr>\n",
       "      <th>17</th>\n",
       "      <td>18</td>\n",
       "      <td>2</td>\n",
       "    </tr>\n",
       "    <tr>\n",
       "      <th>18</th>\n",
       "      <td>19</td>\n",
       "      <td>2</td>\n",
       "    </tr>\n",
       "    <tr>\n",
       "      <th>19</th>\n",
       "      <td>20</td>\n",
       "      <td>2</td>\n",
       "    </tr>\n",
       "    <tr>\n",
       "      <th>20</th>\n",
       "      <td>21</td>\n",
       "      <td>3</td>\n",
       "    </tr>\n",
       "    <tr>\n",
       "      <th>21</th>\n",
       "      <td>22</td>\n",
       "      <td>3</td>\n",
       "    </tr>\n",
       "    <tr>\n",
       "      <th>22</th>\n",
       "      <td>23</td>\n",
       "      <td>3</td>\n",
       "    </tr>\n",
       "    <tr>\n",
       "      <th>23</th>\n",
       "      <td>24</td>\n",
       "      <td>3</td>\n",
       "    </tr>\n",
       "    <tr>\n",
       "      <th>24</th>\n",
       "      <td>25</td>\n",
       "      <td>3</td>\n",
       "    </tr>\n",
       "    <tr>\n",
       "      <th>25</th>\n",
       "      <td>26</td>\n",
       "      <td>3</td>\n",
       "    </tr>\n",
       "    <tr>\n",
       "      <th>26</th>\n",
       "      <td>27</td>\n",
       "      <td>2</td>\n",
       "    </tr>\n",
       "    <tr>\n",
       "      <th>27</th>\n",
       "      <td>28</td>\n",
       "      <td>3</td>\n",
       "    </tr>\n",
       "    <tr>\n",
       "      <th>28</th>\n",
       "      <td>29</td>\n",
       "      <td>3</td>\n",
       "    </tr>\n",
       "    <tr>\n",
       "      <th>29</th>\n",
       "      <td>30</td>\n",
       "      <td>3</td>\n",
       "    </tr>\n",
       "  </tbody>\n",
       "</table>\n",
       "</div>"
      ],
      "text/plain": [
       "    id  type\n",
       "0    1     1\n",
       "1    2     1\n",
       "2    3     1\n",
       "3    4     1\n",
       "4    5     1\n",
       "5    6     1\n",
       "6    7     1\n",
       "7    8     1\n",
       "8    9     1\n",
       "9   10     1\n",
       "10  11     2\n",
       "11  12     2\n",
       "12  13     3\n",
       "13  14     2\n",
       "14  15     2\n",
       "15  16     2\n",
       "16  17     2\n",
       "17  18     2\n",
       "18  19     2\n",
       "19  20     2\n",
       "20  21     3\n",
       "21  22     3\n",
       "22  23     3\n",
       "23  24     3\n",
       "24  25     3\n",
       "25  26     3\n",
       "26  27     2\n",
       "27  28     3\n",
       "28  29     3\n",
       "29  30     3"
      ]
     },
     "execution_count": 71,
     "metadata": {},
     "output_type": "execute_result"
    }
   ],
   "source": [
    "submission = pd.read_csv('submission.csv', encoding = \"utf-8\", dtype = {'type': np.int32})\n",
    "submission"
   ]
  },
  {
   "cell_type": "code",
   "execution_count": null,
   "metadata": {},
   "outputs": [],
   "source": []
  },
  {
   "cell_type": "code",
   "execution_count": null,
   "metadata": {},
   "outputs": [],
   "source": []
  }
 ],
 "metadata": {
  "celltoolbar": "Tags",
  "kernelspec": {
   "display_name": "Python 3",
   "language": "python",
   "name": "python3"
  },
  "language_info": {
   "codemirror_mode": {
    "name": "ipython",
    "version": 3
   },
   "file_extension": ".py",
   "mimetype": "text/x-python",
   "name": "python",
   "nbconvert_exporter": "python",
   "pygments_lexer": "ipython3",
   "version": "3.6.5"
  }
 },
 "nbformat": 4,
 "nbformat_minor": 2
}
